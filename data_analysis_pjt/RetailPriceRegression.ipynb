{
 "cells": [
  {
   "cell_type": "code",
   "execution_count": 1,
   "id": "65f99309",
   "metadata": {
    "colab": {
     "base_uri": "https://localhost:8080/",
     "height": 375
    },
    "executionInfo": {
     "elapsed": 461,
     "status": "error",
     "timestamp": 1660012558967,
     "user": {
      "displayName": "A",
      "userId": "14103628306870977039"
     },
     "user_tz": -540
    },
    "id": "bb874128",
    "outputId": "e8043781-1abf-4242-80ba-568ff8e4aac4"
   },
   "outputs": [],
   "source": [
    "import numpy as np\n",
    "import pandas as pd\n",
    "import seaborn as sns\n",
    "import matplotlib.pyplot as plt\n",
    "%matplotlib inline\n",
    "import warnings \n",
    "warnings.filterwarnings('ignore')\n",
    "\n",
    "weather = pd.read_csv('./weather_final.csv')\n",
    "price = pd.read_csv('./FullPrice_final.csv')"
   ]
  },
  {
   "cell_type": "code",
   "execution_count": 2,
   "id": "b3bc23f0",
   "metadata": {
    "colab": {
     "base_uri": "https://localhost:8080/",
     "height": 164
    },
    "executionInfo": {
     "elapsed": 12,
     "status": "error",
     "timestamp": 1660012559351,
     "user": {
      "displayName": "A",
      "userId": "14103628306870977039"
     },
     "user_tz": -540
    },
    "id": "e6ba780a",
    "outputId": "c686a5b6-1b60-4d75-8a89-05df5b7fa575"
   },
   "outputs": [
    {
     "data": {
      "text/html": [
       "<div>\n",
       "<style scoped>\n",
       "    .dataframe tbody tr th:only-of-type {\n",
       "        vertical-align: middle;\n",
       "    }\n",
       "\n",
       "    .dataframe tbody tr th {\n",
       "        vertical-align: top;\n",
       "    }\n",
       "\n",
       "    .dataframe thead th {\n",
       "        text-align: right;\n",
       "    }\n",
       "</style>\n",
       "<table border=\"1\" class=\"dataframe\">\n",
       "  <thead>\n",
       "    <tr style=\"text-align: right;\">\n",
       "      <th></th>\n",
       "      <th>Unnamed: 0</th>\n",
       "      <th>년</th>\n",
       "      <th>월</th>\n",
       "      <th>평균온도</th>\n",
       "      <th>강수량</th>\n",
       "      <th>일사량</th>\n",
       "      <th>순간최대풍속</th>\n",
       "      <th>습도</th>\n",
       "    </tr>\n",
       "  </thead>\n",
       "  <tbody>\n",
       "    <tr>\n",
       "      <th>55</th>\n",
       "      <td>55</td>\n",
       "      <td>2020</td>\n",
       "      <td>8</td>\n",
       "      <td>26.40</td>\n",
       "      <td>2692.52</td>\n",
       "      <td>433.48</td>\n",
       "      <td>19.58</td>\n",
       "      <td>86.75</td>\n",
       "    </tr>\n",
       "    <tr>\n",
       "      <th>56</th>\n",
       "      <td>56</td>\n",
       "      <td>2020</td>\n",
       "      <td>9</td>\n",
       "      <td>20.32</td>\n",
       "      <td>1229.97</td>\n",
       "      <td>419.65</td>\n",
       "      <td>19.24</td>\n",
       "      <td>81.24</td>\n",
       "    </tr>\n",
       "    <tr>\n",
       "      <th>57</th>\n",
       "      <td>57</td>\n",
       "      <td>2020</td>\n",
       "      <td>10</td>\n",
       "      <td>13.72</td>\n",
       "      <td>76.72</td>\n",
       "      <td>425.55</td>\n",
       "      <td>12.71</td>\n",
       "      <td>70.97</td>\n",
       "    </tr>\n",
       "    <tr>\n",
       "      <th>58</th>\n",
       "      <td>58</td>\n",
       "      <td>2020</td>\n",
       "      <td>11</td>\n",
       "      <td>8.51</td>\n",
       "      <td>272.02</td>\n",
       "      <td>268.61</td>\n",
       "      <td>14.86</td>\n",
       "      <td>69.95</td>\n",
       "    </tr>\n",
       "    <tr>\n",
       "      <th>59</th>\n",
       "      <td>59</td>\n",
       "      <td>2020</td>\n",
       "      <td>12</td>\n",
       "      <td>0.34</td>\n",
       "      <td>79.28</td>\n",
       "      <td>249.46</td>\n",
       "      <td>13.84</td>\n",
       "      <td>66.98</td>\n",
       "    </tr>\n",
       "  </tbody>\n",
       "</table>\n",
       "</div>"
      ],
      "text/plain": [
       "    Unnamed: 0     년   월   평균온도      강수량     일사량  순간최대풍속     습도\n",
       "55          55  2020   8  26.40  2692.52  433.48   19.58  86.75\n",
       "56          56  2020   9  20.32  1229.97  419.65   19.24  81.24\n",
       "57          57  2020  10  13.72    76.72  425.55   12.71  70.97\n",
       "58          58  2020  11   8.51   272.02  268.61   14.86  69.95\n",
       "59          59  2020  12   0.34    79.28  249.46   13.84  66.98"
      ]
     },
     "execution_count": 2,
     "metadata": {},
     "output_type": "execute_result"
    }
   ],
   "source": [
    "weather.tail()"
   ]
  },
  {
   "cell_type": "code",
   "execution_count": 3,
   "id": "470e0e58",
   "metadata": {
    "executionInfo": {
     "elapsed": 9,
     "status": "aborted",
     "timestamp": 1660012559349,
     "user": {
      "displayName": "A",
      "userId": "14103628306870977039"
     },
     "user_tz": -540
    },
    "id": "61cf9d85"
   },
   "outputs": [
    {
     "data": {
      "text/html": [
       "<div>\n",
       "<style scoped>\n",
       "    .dataframe tbody tr th:only-of-type {\n",
       "        vertical-align: middle;\n",
       "    }\n",
       "\n",
       "    .dataframe tbody tr th {\n",
       "        vertical-align: top;\n",
       "    }\n",
       "\n",
       "    .dataframe thead th {\n",
       "        text-align: right;\n",
       "    }\n",
       "</style>\n",
       "<table border=\"1\" class=\"dataframe\">\n",
       "  <thead>\n",
       "    <tr style=\"text-align: right;\">\n",
       "      <th></th>\n",
       "      <th>Unnamed: 0</th>\n",
       "      <th>년</th>\n",
       "      <th>월</th>\n",
       "      <th>상품소매가격</th>\n",
       "      <th>중품소매가격</th>\n",
       "      <th>전체소매가격</th>\n",
       "    </tr>\n",
       "  </thead>\n",
       "  <tbody>\n",
       "    <tr>\n",
       "      <th>73</th>\n",
       "      <td>73</td>\n",
       "      <td>2021</td>\n",
       "      <td>9월</td>\n",
       "      <td>5996</td>\n",
       "      <td>4662</td>\n",
       "      <td>5329</td>\n",
       "    </tr>\n",
       "    <tr>\n",
       "      <th>74</th>\n",
       "      <td>74</td>\n",
       "      <td>2021</td>\n",
       "      <td>10월</td>\n",
       "      <td>5622</td>\n",
       "      <td>4492</td>\n",
       "      <td>5057</td>\n",
       "    </tr>\n",
       "    <tr>\n",
       "      <th>75</th>\n",
       "      <td>75</td>\n",
       "      <td>2021</td>\n",
       "      <td>11월</td>\n",
       "      <td>5411</td>\n",
       "      <td>4423</td>\n",
       "      <td>4917</td>\n",
       "    </tr>\n",
       "    <tr>\n",
       "      <th>76</th>\n",
       "      <td>76</td>\n",
       "      <td>2021</td>\n",
       "      <td>12월</td>\n",
       "      <td>5295</td>\n",
       "      <td>4457</td>\n",
       "      <td>4876</td>\n",
       "    </tr>\n",
       "    <tr>\n",
       "      <th>77</th>\n",
       "      <td>77</td>\n",
       "      <td>2021</td>\n",
       "      <td>연평균</td>\n",
       "      <td>6299</td>\n",
       "      <td>4986</td>\n",
       "      <td>5642</td>\n",
       "    </tr>\n",
       "  </tbody>\n",
       "</table>\n",
       "</div>"
      ],
      "text/plain": [
       "    Unnamed: 0     년    월  상품소매가격  중품소매가격  전체소매가격\n",
       "73          73  2021   9월    5996    4662    5329\n",
       "74          74  2021  10월    5622    4492    5057\n",
       "75          75  2021  11월    5411    4423    4917\n",
       "76          76  2021  12월    5295    4457    4876\n",
       "77          77  2021  연평균    6299    4986    5642"
      ]
     },
     "execution_count": 3,
     "metadata": {},
     "output_type": "execute_result"
    }
   ],
   "source": [
    "price.tail()"
   ]
  },
  {
   "cell_type": "code",
   "execution_count": 4,
   "id": "ae6c95b3",
   "metadata": {
    "executionInfo": {
     "elapsed": 9,
     "status": "aborted",
     "timestamp": 1660012559350,
     "user": {
      "displayName": "A",
      "userId": "14103628306870977039"
     },
     "user_tz": -540
    },
    "id": "526fd857"
   },
   "outputs": [
    {
     "data": {
      "text/html": [
       "<div>\n",
       "<style scoped>\n",
       "    .dataframe tbody tr th:only-of-type {\n",
       "        vertical-align: middle;\n",
       "    }\n",
       "\n",
       "    .dataframe tbody tr th {\n",
       "        vertical-align: top;\n",
       "    }\n",
       "\n",
       "    .dataframe thead th {\n",
       "        text-align: right;\n",
       "    }\n",
       "</style>\n",
       "<table border=\"1\" class=\"dataframe\">\n",
       "  <thead>\n",
       "    <tr style=\"text-align: right;\">\n",
       "      <th></th>\n",
       "      <th>년</th>\n",
       "      <th>월</th>\n",
       "      <th>상품소매가격</th>\n",
       "      <th>중품소매가격</th>\n",
       "      <th>전체소매가격</th>\n",
       "    </tr>\n",
       "  </thead>\n",
       "  <tbody>\n",
       "    <tr>\n",
       "      <th>55</th>\n",
       "      <td>2020</td>\n",
       "      <td>8월</td>\n",
       "      <td>7891</td>\n",
       "      <td>6170</td>\n",
       "      <td>7030</td>\n",
       "    </tr>\n",
       "    <tr>\n",
       "      <th>56</th>\n",
       "      <td>2020</td>\n",
       "      <td>9월</td>\n",
       "      <td>6391</td>\n",
       "      <td>5124</td>\n",
       "      <td>5757</td>\n",
       "    </tr>\n",
       "    <tr>\n",
       "      <th>57</th>\n",
       "      <td>2020</td>\n",
       "      <td>10월</td>\n",
       "      <td>5707</td>\n",
       "      <td>4693</td>\n",
       "      <td>5200</td>\n",
       "    </tr>\n",
       "    <tr>\n",
       "      <th>58</th>\n",
       "      <td>2020</td>\n",
       "      <td>11월</td>\n",
       "      <td>5678</td>\n",
       "      <td>4534</td>\n",
       "      <td>5106</td>\n",
       "    </tr>\n",
       "    <tr>\n",
       "      <th>59</th>\n",
       "      <td>2020</td>\n",
       "      <td>12월</td>\n",
       "      <td>5797</td>\n",
       "      <td>4588</td>\n",
       "      <td>5192</td>\n",
       "    </tr>\n",
       "  </tbody>\n",
       "</table>\n",
       "</div>"
      ],
      "text/plain": [
       "       년    월  상품소매가격  중품소매가격  전체소매가격\n",
       "55  2020   8월    7891    6170    7030\n",
       "56  2020   9월    6391    5124    5757\n",
       "57  2020  10월    5707    4693    5200\n",
       "58  2020  11월    5678    4534    5106\n",
       "59  2020  12월    5797    4588    5192"
      ]
     },
     "execution_count": 4,
     "metadata": {},
     "output_type": "execute_result"
    }
   ],
   "source": [
    "a = price[price['월']=='연평균'].index\n",
    "price.drop(a, axis=0, inplace=True)\n",
    "\n",
    "b = price[price['년']==2021].index\n",
    "price.drop(b, axis=0, inplace=True)\n",
    "\n",
    "price.drop(['Unnamed: 0'], axis=1, inplace=True)\n",
    "\n",
    "price = price.reset_index(drop=True)\n",
    "price.tail()"
   ]
  },
  {
   "cell_type": "code",
   "execution_count": 5,
   "id": "eaf3af72",
   "metadata": {
    "executionInfo": {
     "elapsed": 9,
     "status": "aborted",
     "timestamp": 1660012559350,
     "user": {
      "displayName": "A",
      "userId": "14103628306870977039"
     },
     "user_tz": -540
    },
    "id": "e35b9a2c"
   },
   "outputs": [],
   "source": [
    "#다양한 회귀 모델에 대한 예측 성능 측정\n",
    "from sklearn.metrics import mean_squared_error\n",
    "\n",
    "#RMSLE 계산\n",
    "def rmsle(y, pred):\n",
    "    log_y = np.log1p(y)\n",
    "    log_pred = np.log1p(pred)\n",
    "    squared_error = (log_y - log_pred) ** 2\n",
    "    rmsle = np.sqrt(np.mean(squared_error))\n",
    "    return rmsle\n",
    "\n",
    "#RMSE 계산\n",
    "def rmse(y, pred):\n",
    "    return np.sqrt(mean_squared_error(y, pred))\n",
    "\n",
    "def eval(y, pred):\n",
    "    rmsle_val = rmsle(y, pred)\n",
    "    rmse_val = rmse(y, pred)\n",
    "    print('RMSLE:{:.3f}, RMSE:{:.3f}'.format(rmsle_val, rmse_val))"
   ]
  },
  {
   "cell_type": "code",
   "execution_count": 6,
   "id": "9ff1f6b3",
   "metadata": {
    "executionInfo": {
     "elapsed": 9,
     "status": "aborted",
     "timestamp": 1660012559350,
     "user": {
      "displayName": "A",
      "userId": "14103628306870977039"
     },
     "user_tz": -540
    },
    "id": "2a3b8ca8"
   },
   "outputs": [
    {
     "name": "stdout",
     "output_type": "stream",
     "text": [
      "RMSLE:0.105, RMSE:462.996\n"
     ]
    }
   ],
   "source": [
    "from sklearn.model_selection import train_test_split, GridSearchCV\n",
    "from sklearn.linear_model import LinearRegression, Ridge, Lasso\n",
    "\n",
    "y_target = price['전체소매가격']\n",
    "X_features = weather.drop(['년', '월'], axis=1, inplace=False)\n",
    "\n",
    "X_train, X_test, y_train, y_test = train_test_split(X_features, y_target, test_size=0.3, random_state=0)\n",
    "\n",
    "lr_reg = LinearRegression()\n",
    "lr_reg.fit(X_train, y_train)\n",
    "pred = lr_reg.predict(X_test)\n",
    "\n",
    "eval(y_test, pred)"
   ]
  },
  {
   "cell_type": "markdown",
   "id": "f3d0993a",
   "metadata": {
    "id": "1c883de0"
   },
   "source": [
    "- 예측 오류가 꽤 크다, 오류 값을 가장 큰 순으로 5개만 확인해본다.\n",
    "- 회귀에서 이렇게 큰 예측 오류가 발생할 경우 가장 먼저 살펴볼 것은 Target 값의 분포가 왜곡된 형태를 이루고 있는지 확인"
   ]
  },
  {
   "cell_type": "code",
   "execution_count": 7,
   "id": "b85d4899",
   "metadata": {
    "executionInfo": {
     "elapsed": 9,
     "status": "aborted",
     "timestamp": 1660012559350,
     "user": {
      "displayName": "A",
      "userId": "14103628306870977039"
     },
     "user_tz": -540
    },
    "id": "4002554a"
   },
   "outputs": [
    {
     "data": {
      "image/png": "[encoded data removed]",
      "text/plain": [
       "<Figure size 432x288 with 1 Axes>"
      ]
     },
     "metadata": {
      "needs_background": "light"
     },
     "output_type": "display_data"
    }
   ],
   "source": [
    "y_target.hist();"
   ]
  },
  {
   "cell_type": "code",
   "execution_count": 8,
   "id": "76088f22",
   "metadata": {
    "executionInfo": {
     "elapsed": 10,
     "status": "aborted",
     "timestamp": 1660012559351,
     "user": {
      "displayName": "A",
      "userId": "14103628306870977039"
     },
     "user_tz": -540
    },
    "id": "e5a89db0"
   },
   "outputs": [
    {
     "data": {
      "image/png": "[encoded data removed]",
      "text/plain": [
       "<Figure size 432x288 with 1 Axes>"
      ]
     },
     "metadata": {
      "needs_background": "light"
     },
     "output_type": "display_data"
    }
   ],
   "source": [
    "y_log_transform = np.log1p(y_target)\n",
    "y_log_transform.hist();"
   ]
  },
  {
   "cell_type": "markdown",
   "id": "2c7b9892",
   "metadata": {
    "id": "d1eae136"
   },
   "source": [
    "- 정규 분포 형태는 아니지만 변환하기 전보다는 왜곡 정도가 많이 향상되었다."
   ]
  },
  {
   "cell_type": "code",
   "execution_count": 9,
   "id": "a4bba34d",
   "metadata": {
    "executionInfo": {
     "elapsed": 10,
     "status": "aborted",
     "timestamp": 1660012559351,
     "user": {
      "displayName": "A",
      "userId": "14103628306870977039"
     },
     "user_tz": -540
    },
    "id": "1139669f"
   },
   "outputs": [
    {
     "name": "stdout",
     "output_type": "stream",
     "text": [
      "RMSLE:0.097, RMSE:441.319\n"
     ]
    }
   ],
   "source": [
    "#log 처리 후 다시 학습\n",
    "y_target_log = np.log1p(y_target)\n",
    "\n",
    "X_train, X_test, y_train, y_test = train_test_split(X_features, y_target_log, test_size=0.3, random_state=0)\n",
    "\n",
    "lr_reg = LinearRegression()\n",
    "lr_reg.fit(X_train, y_train)\n",
    "pred = lr_reg.predict(X_test)\n",
    "\n",
    "y_test_exp = np.expm1(y_test)\n",
    "pred_exp = np.expm1(pred)\n",
    "\n",
    "eval(y_test_exp, pred_exp)"
   ]
  },
  {
   "cell_type": "markdown",
   "id": "1673b558",
   "metadata": {
    "id": "615d9178"
   },
   "source": [
    "- RMSLE, RMSE 오류가 줄어들었다."
   ]
  },
  {
   "cell_type": "code",
   "execution_count": 10,
   "id": "52bc2e6e",
   "metadata": {
    "executionInfo": {
     "elapsed": 9,
     "status": "aborted",
     "timestamp": 1660012559351,
     "user": {
      "displayName": "A",
      "userId": "14103628306870977039"
     },
     "user_tz": -540
    },
    "id": "a3d746aa"
   },
   "outputs": [
    {
     "data": {
      "image/png": "[encoded data removed]",
      "text/plain": [
       "<Figure size 432x288 with 1 Axes>"
      ]
     },
     "metadata": {
      "needs_background": "light"
     },
     "output_type": "display_data"
    }
   ],
   "source": [
    "from matplotlib import rc\n",
    "rc('font', family='AppleGothic')\n",
    "plt.rcParams['axes.unicode_minus'] = False\n",
    "\n",
    "coef = pd.Series(lr_reg.coef_, index=X_features.columns)\n",
    "coef_sort = coef.sort_values(ascending=False)\n",
    "sns.barplot(x=coef_sort.values, y = coef_sort.index);"
   ]
  },
  {
   "cell_type": "code",
   "execution_count": 11,
   "id": "b488cb1d",
   "metadata": {
    "executionInfo": {
     "elapsed": 9,
     "status": "aborted",
     "timestamp": 1660012559351,
     "user": {
      "displayName": "A",
      "userId": "14103628306870977039"
     },
     "user_tz": -540
    },
    "id": "21943702"
   },
   "outputs": [
    {
     "name": "stdout",
     "output_type": "stream",
     "text": [
      "LinearRegression\n",
      "RMSLE:0.099, RMSE:469.607\n",
      "Ridge\n",
      "RMSLE:0.103, RMSE:489.603\n",
      "Lasso\n",
      "RMSLE:0.105, RMSE:500.558\n"
     ]
    }
   ],
   "source": [
    "#개별 피처들의 원핫 인코딩\n",
    "X_features_ohe = pd.get_dummies(X_features, columns = ['평균온도','강수량','일사량','순간최대풍속','습도'])\n",
    "\n",
    "X_train, X_test, y_train, y_test = train_test_split(X_features_ohe, y_target_log, test_size=0.3, random_state=0)\n",
    "\n",
    "def get_model_predict(model, X_train, X_test, y_train, y_test):\n",
    "    model.fit(X_train, y_train)\n",
    "    pred = model.predict(X_test)\n",
    "    y_test = np.expm1(y_test)\n",
    "    pred = np.expm1(pred)\n",
    "    print(model.__class__.__name__)\n",
    "    eval(y_test, pred)\n",
    "    \n",
    "lr_reg = LinearRegression()\n",
    "ridge_reg = Ridge(alpha=10)\n",
    "lasso_reg = Lasso(alpha=0.01)\n",
    "\n",
    "for model in (lr_reg, ridge_reg, lasso_reg):\n",
    "    get_model_predict(model, X_train, X_test, y_train, y_test)"
   ]
  },
  {
   "cell_type": "markdown",
   "id": "c444673f",
   "metadata": {
    "id": "8a57d3f4"
   },
   "source": [
    "- 원핫인코딩 후 선형회귀의 예측 성능을 떨어졌다."
   ]
  },
  {
   "cell_type": "code",
   "execution_count": 12,
   "id": "c353624c",
   "metadata": {
    "executionInfo": {
     "elapsed": 506,
     "status": "aborted",
     "timestamp": 1660012559848,
     "user": {
      "displayName": "A",
      "userId": "14103628306870977039"
     },
     "user_tz": -540
    },
    "id": "e4d324c7"
   },
   "outputs": [
    {
     "data": {
      "image/png": "[encoded data removed]",
      "text/plain": [
       "<Figure size 432x288 with 1 Axes>"
      ]
     },
     "metadata": {
      "needs_background": "light"
     },
     "output_type": "display_data"
    }
   ],
   "source": [
    "#원핫 인코딩을 통해 피처들의 영향도가 달라졌다.\n",
    "coef = pd.Series(lr_reg.coef_, index=X_features_ohe.columns)\n",
    "coef_sort = coef.sort_values(ascending=False)[:20]\n",
    "sns.barplot(x=coef_sort.values, y = coef_sort.index);"
   ]
  },
  {
   "cell_type": "code",
   "execution_count": 13,
   "id": "20784e0d",
   "metadata": {
    "executionInfo": {
     "elapsed": 507,
     "status": "aborted",
     "timestamp": 1660012559849,
     "user": {
      "displayName": "A",
      "userId": "14103628306870977039"
     },
     "user_tz": -540
    },
    "id": "0d351b84"
   },
   "outputs": [
    {
     "name": "stdout",
     "output_type": "stream",
     "text": [
      "RandomForestRegressor\n",
      "RMSLE:0.052, RMSE:251.699\n",
      "GradientBoostingRegressor\n",
      "RMSLE:0.051, RMSE:244.244\n",
      "XGBRegressor\n",
      "RMSLE:0.070, RMSE:329.918\n",
      "LGBMRegressor\n",
      "RMSLE:0.132, RMSE:631.389\n"
     ]
    }
   ],
   "source": [
    "#회귀트리를 이용해 회귀 예측을 수행\n",
    "from sklearn.ensemble import RandomForestRegressor, GradientBoostingRegressor\n",
    "from xgboost import XGBRegressor\n",
    "from lightgbm import LGBMRegressor\n",
    "\n",
    "rf_reg = RandomForestRegressor(n_estimators=500)\n",
    "gbm_reg = GradientBoostingRegressor(n_estimators=500)\n",
    "xgb_reg = XGBRegressor(n_estimators=500)\n",
    "lgbm_reg = LGBMRegressor(n_estimators=500)\n",
    "\n",
    "#target값은 로그 실행한 값으로, feather값은 원핫인코딩 안한 값으로 \n",
    "X_train, X_test, y_train, y_test = train_test_split(X_features, y_target_log, test_size=0.3, random_state=0)\n",
    "\n",
    "for model in [rf_reg, gbm_reg, xgb_reg, lgbm_reg]:\n",
    "    get_model_predict(model, X_train.values, X_test.values, y_train.values, y_test.values)"
   ]
  },
  {
   "cell_type": "code",
   "execution_count": 14,
   "id": "32abad23",
   "metadata": {
    "executionInfo": {
     "elapsed": 507,
     "status": "aborted",
     "timestamp": 1660012559849,
     "user": {
      "displayName": "A",
      "userId": "14103628306870977039"
     },
     "user_tz": -540
    },
    "id": "334e26e0"
   },
   "outputs": [
    {
     "name": "stdout",
     "output_type": "stream",
     "text": [
      "RandomForestRegressor\n",
      "RMSLE:0.060, RMSE:309.767\n",
      "GradientBoostingRegressor\n",
      "RMSLE:0.057, RMSE:281.617\n",
      "XGBRegressor\n",
      "RMSLE:0.059, RMSE:263.180\n",
      "LGBMRegressor\n",
      "RMSLE:0.121, RMSE:566.750\n"
     ]
    }
   ],
   "source": [
    "#회귀트리를 이용해 회귀 예측을 수행\n",
    "from sklearn.ensemble import RandomForestRegressor, GradientBoostingRegressor\n",
    "from xgboost import XGBRegressor\n",
    "from lightgbm import LGBMRegressor\n",
    "\n",
    "rf_reg = RandomForestRegressor(n_estimators=500)\n",
    "gbm_reg = GradientBoostingRegressor(n_estimators=500)\n",
    "xgb_reg = XGBRegressor(n_estimators=500)\n",
    "lgbm_reg = LGBMRegressor(n_estimators=500)\n",
    "\n",
    "#target값은 로그 실행한 값으로, feather값은 원핫인코딩 실행한 값으로 \n",
    "X_train, X_test, y_train, y_test = train_test_split(X_features_ohe, y_target_log, test_size=0.3, random_state=0)\n",
    "\n",
    "for model in [rf_reg, gbm_reg, xgb_reg, lgbm_reg]:\n",
    "    get_model_predict(model, X_train.values, X_test.values, y_train.values, y_test.values)"
   ]
  },
  {
   "cell_type": "code",
   "execution_count": 15,
   "id": "cb1e98bd",
   "metadata": {
    "executionInfo": {
     "elapsed": 507,
     "status": "aborted",
     "timestamp": 1660012559849,
     "user": {
      "displayName": "A",
      "userId": "14103628306870977039"
     },
     "user_tz": -540
    },
    "id": "ee8c5ed4"
   },
   "outputs": [
    {
     "name": "stdout",
     "output_type": "stream",
     "text": [
      "LinearRegresion Score: 0.394\n",
      "Ridge Score: 0.394\n",
      "Lasso Score: 0.339\n",
      "Ridge Score: 0.394\n",
      "Lasso Score: 0.312\n"
     ]
    }
   ],
   "source": [
    "#target값은 로그 실행한 값으로, feather값은 원핫인코딩 안한 값으로 \n",
    "x_train, x_test, y_train, y_test = train_test_split(X_features, y_target_log, test_size=0.3, random_state=0)\n",
    "from sklearn.linear_model import LinearRegression, Ridge, Lasso\n",
    "\n",
    "# LinerRegression\n",
    "lin_reg = LinearRegression()\n",
    "lin_reg.fit(x_train, y_train)\n",
    "print(f'LinearRegresion Score: {lin_reg.score(x_test, y_test):.3f}')\n",
    "\n",
    "# Ridge\n",
    "ridge = Ridge(alpha=0.1, random_state=0)\n",
    "ridge.fit(x_train, y_train)\n",
    "print(f'Ridge Score: {ridge.score(x_test, y_test):.3f}')\n",
    "\n",
    "# Lasso\n",
    "lasso = Lasso(alpha=0.1, random_state=0)\n",
    "lasso.fit(x_train, y_train)\n",
    "print(f'Lasso Score: {lasso.score(x_test, y_test):.3f}')\n",
    "\n",
    "# Ridge\n",
    "ridge = Ridge(alpha=0.5, random_state=0)\n",
    "ridge.fit(x_train, y_train)\n",
    "print(f'Ridge Score: {ridge.score(x_test, y_test):.3f}')\n",
    "\n",
    "# Lasso\n",
    "lasso = Lasso(alpha=0.5, random_state=0)\n",
    "lasso.fit(x_train, y_train)\n",
    "print(f'Lasso Score: {lasso.score(x_test, y_test):.3f}')"
   ]
  },
  {
   "cell_type": "code",
   "execution_count": 16,
   "id": "a2bbb8ab",
   "metadata": {
    "executionInfo": {
     "elapsed": 506,
     "status": "aborted",
     "timestamp": 1660012559849,
     "user": {
      "displayName": "A",
      "userId": "14103628306870977039"
     },
     "user_tz": -540
    },
    "id": "190ed23e"
   },
   "outputs": [
    {
     "name": "stdout",
     "output_type": "stream",
     "text": [
      "LinearRegresion Score: 0.370\n",
      "Ridge Score: 0.368\n",
      "Lasso Score: 0.299\n",
      "Ridge Score: 0.363\n",
      "Lasso Score: 0.338\n"
     ]
    }
   ],
   "source": [
    "#target값은 로그 실행한 값으로, feather값은 원핫인코딩 실행한 값으로 \n",
    "x_train, x_test, y_train, y_test = train_test_split(X_features_ohe, y_target_log, test_size=0.3, random_state=0)\n",
    "\n",
    "from sklearn.linear_model import LinearRegression, Ridge, Lasso\n",
    "\n",
    "# LinerRegression\n",
    "lin_reg = LinearRegression()\n",
    "lin_reg.fit(x_train, y_train)\n",
    "print(f'LinearRegresion Score: {lin_reg.score(x_test, y_test):.3f}')\n",
    "\n",
    "# Ridge\n",
    "ridge = Ridge(alpha=0.1, random_state=0)\n",
    "ridge.fit(x_train, y_train)\n",
    "print(f'Ridge Score: {ridge.score(x_test, y_test):.3f}')\n",
    "\n",
    "# Lasso\n",
    "lasso = Lasso(alpha=0.1, random_state=0)\n",
    "lasso.fit(x_train, y_train)\n",
    "print(f'Lasso Score: {lasso.score(x_test, y_test):.3f}')\n",
    "\n",
    "# Ridge\n",
    "ridge = Ridge(alpha=0.5, random_state=0)\n",
    "ridge.fit(x_train, y_train)\n",
    "print(f'Ridge Score: {ridge.score(x_test, y_test):.3f}')\n",
    "\n",
    "# Lasso\n",
    "lasso = Lasso(alpha=0.5, random_state=0)\n",
    "lasso.fit(x_train, y_train)\n",
    "print(f'Lasso Score: {lasso.score(x_test, y_test):.3f}')"
   ]
  },
  {
   "cell_type": "code",
   "execution_count": 17,
   "id": "f986c3b1",
   "metadata": {
    "executionInfo": {
     "elapsed": 505,
     "status": "aborted",
     "timestamp": 1660012559849,
     "user": {
      "displayName": "A",
      "userId": "14103628306870977039"
     },
     "user_tz": -540
    },
    "id": "963a741b"
   },
   "outputs": [
    {
     "name": "stdout",
     "output_type": "stream",
     "text": [
      "Feature Ranking:\n",
      "1. feature Unnamed: 0 (0.815)\n",
      "2. feature 일사량_526.19 (0.008)\n",
      "3. feature 일사량_569.15 (0.008)\n",
      "4. feature 평균온도_26.4 (0.006)\n",
      "5. feature 순간최대풍속_13.72 (0.005)\n",
      "6. feature 순간최대풍속_19.58 (0.005)\n",
      "7. feature 습도_74.17 (0.005)\n",
      "8. feature 강수량_2692.52 (0.005)\n",
      "9. feature 습도_76.16 (0.004)\n",
      "10. feature 일사량_289.98 (0.004)\n",
      "11. feature 강수량_456.12 (0.004)\n",
      "12. feature 강수량_1870.9 (0.004)\n",
      "13. feature 평균온도_21.67 (0.004)\n",
      "14. feature 일사량_402.64 (0.003)\n",
      "15. feature 평균온도_7.56 (0.003)\n",
      "16. feature 강수량_1244.25 (0.003)\n",
      "17. feature 순간최대풍속_12.26 (0.003)\n",
      "18. feature 습도_86.75 (0.003)\n",
      "19. feature 강수량_1046.68 (0.003)\n",
      "20. feature 일사량_447.31 (0.003)\n",
      "21. feature 일사량_433.48 (0.003)\n",
      "22. feature 순간최대풍속_12.9 (0.002)\n",
      "23. feature 평균온도_27.31 (0.002)\n",
      "24. feature 강수량_834.75 (0.002)\n",
      "25. feature 순간최대풍속_12.92 (0.002)\n",
      "26. feature 순간최대풍속_14.02 (0.002)\n",
      "27. feature 일사량_219.3 (0.002)\n",
      "28. feature 습도_70.97 (0.002)\n",
      "29. feature 강수량_1948.9 (0.002)\n",
      "30. feature 평균온도_15.52 (0.002)\n",
      "31. feature 습도_86.18 (0.002)\n",
      "32. feature 강수량_76.72 (0.002)\n",
      "33. feature 순간최대풍속_16.38 (0.002)\n",
      "34. feature 평균온도_22.58 (0.002)\n",
      "35. feature 강수량_1638.07 (0.002)\n",
      "36. feature 평균온도_13.72 (0.002)\n",
      "37. feature 강수량_239.62 (0.002)\n",
      "38. feature 순간최대풍속_14.46 (0.002)\n",
      "39. feature 습도_76.43 (0.002)\n",
      "40. feature 평균온도_2.29 (0.002)\n",
      "41. feature 일사량_389.08 (0.002)\n",
      "42. feature 순간최대풍속_14.25 (0.001)\n",
      "43. feature 평균온도_24.93 (0.001)\n",
      "44. feature 평균온도_21.6 (0.001)\n",
      "45. feature 평균온도_-0.92 (0.001)\n",
      "46. feature 일사량_614.58 (0.001)\n",
      "47. feature 평균온도_1.4 (0.001)\n",
      "48. feature 습도_79.0 (0.001)\n",
      "49. feature 일사량_402.13 (0.001)\n",
      "50. feature 순간최대풍속_16.45 (0.001)\n",
      "51. feature 평균온도_10.02 (0.001)\n",
      "52. feature 습도_71.27 (0.001)\n",
      "53. feature 순간최대풍속_23.81 (0.001)\n",
      "54. feature 일사량_425.55 (0.001)\n",
      "55. feature 평균온도_17.34 (0.001)\n",
      "56. feature 일사량_561.19 (0.001)\n",
      "57. feature 습도_75.66 (0.001)\n",
      "58. feature 순간최대풍속_14.27 (0.001)\n",
      "59. feature 평균온도_2.37 (0.001)\n",
      "60. feature 평균온도_20.2 (0.001)\n",
      "61. feature 순간최대풍속_13.81 (0.001)\n",
      "62. feature 습도_57.02 (0.001)\n",
      "63. feature 일사량_515.45 (0.001)\n",
      "64. feature 강수량_55.9 (0.001)\n",
      "65. feature 습도_59.92 (0.001)\n",
      "66. feature 강수량_183.55 (0.001)\n",
      "67. feature 일사량_490.3 (0.001)\n",
      "68. feature 습도_71.47 (0.001)\n",
      "69. feature 습도_81.24 (0.001)\n",
      "70. feature 평균온도_20.48 (0.001)\n",
      "71. feature 강수량_1391.98 (0.001)\n",
      "72. feature 순간최대풍속_12.71 (0.001)\n",
      "73. feature 일사량_577.49 (0.001)\n",
      "74. feature 습도_66.77 (0.001)\n",
      "75. feature 순간최대풍속_12.2 (0.001)\n",
      "76. feature 강수량_202.6 (0.001)\n",
      "77. feature 일사량_419.65 (0.001)\n",
      "78. feature 일사량_425.96 (0.001)\n",
      "79. feature 강수량_746.13 (0.001)\n",
      "80. feature 평균온도_6.27 (0.001)\n",
      "81. feature 강수량_350.68 (0.001)\n",
      "82. feature 습도_61.54 (0.001)\n",
      "83. feature 강수량_764.92 (0.001)\n",
      "84. feature 순간최대풍속_16.81 (0.001)\n",
      "85. feature 습도_64.05 (0.001)\n",
      "86. feature 평균온도_14.64 (0.001)\n",
      "87. feature 강수량_1229.97 (0.001)\n",
      "88. feature 습도_63.39 (0.001)\n",
      "89. feature 습도_82.03 (0.001)\n",
      "90. feature 일사량_483.92 (0.001)\n",
      "91. feature 습도_75.4 (0.001)\n",
      "92. feature 습도_81.87 (0.000)\n",
      "93. feature 일사량_183.87 (0.000)\n",
      "94. feature 순간최대풍속_14.53 (0.000)\n",
      "95. feature 일사량_438.71 (0.000)\n",
      "96. feature 강수량_255.27 (0.000)\n",
      "97. feature 평균온도_22.07 (0.000)\n",
      "98. feature 습도_76.74 (0.000)\n",
      "99. feature 강수량_386.12 (0.000)\n",
      "100. feature 평균온도_7.36 (0.000)\n",
      "101. feature 평균온도_25.56 (0.000)\n",
      "102. feature 습도_68.12 (0.000)\n",
      "103. feature 강수량_366.18 (0.000)\n",
      "104. feature 일사량_230.38 (0.000)\n",
      "105. feature 일사량_389.94 (0.000)\n",
      "106. feature 습도_77.18 (0.000)\n",
      "107. feature 평균온도_20.32 (0.000)\n",
      "108. feature 일사량_459.44 (0.000)\n",
      "109. feature 강수량_886.08 (0.000)\n",
      "110. feature 일사량_486.94 (0.000)\n",
      "111. feature 습도_86.16 (0.000)\n",
      "112. feature 습도_72.59 (0.000)\n",
      "113. feature 순간최대풍속_15.54 (0.000)\n",
      "114. feature 평균온도_25.44 (0.000)\n",
      "115. feature 평균온도_-1.39 (0.000)\n",
      "116. feature 강수량_198.1 (0.000)\n",
      "117. feature 강수량_185.68 (0.000)\n",
      "118. feature 평균온도_-2.85 (0.000)\n",
      "119. feature 순간최대풍속_11.38 (0.000)\n",
      "120. feature 일사량_231.19 (0.000)\n",
      "121. feature 일사량_325.59 (0.000)\n",
      "122. feature 습도_61.76 (0.000)\n",
      "123. feature 일사량_220.63 (0.000)\n",
      "124. feature 습도_68.94 (0.000)\n",
      "125. feature 강수량_208.9 (0.000)\n",
      "126. feature 평균온도_12.62 (0.000)\n",
      "127. feature 순간최대풍속_13.88 (0.000)\n",
      "128. feature 순간최대풍속_19.24 (0.000)\n",
      "129. feature 강수량_1527.95 (0.000)\n",
      "130. feature 일사량_433.96 (0.000)\n",
      "131. feature 순간최대풍속_13.77 (0.000)\n",
      "132. feature 일사량_496.12 (0.000)\n",
      "133. feature 순간최대풍속_12.86 (0.000)\n",
      "134. feature 순간최대풍속_13.52 (0.000)\n",
      "135. feature 강수량_581.42 (0.000)\n",
      "136. feature 습도_77.91 (0.000)\n",
      "137. feature 습도_83.7 (0.000)\n",
      "138. feature 평균온도_-1.23 (0.000)\n",
      "139. feature 일사량_296.37 (0.000)\n",
      "140. feature 습도_81.05 (0.000)\n",
      "141. feature 순간최대풍속_17.14 (0.000)\n",
      "142. feature 강수량_309.42 (0.000)\n",
      "143. feature 일사량_209.3 (0.000)\n",
      "144. feature 강수량_1932.22 (0.000)\n",
      "145. feature 강수량_1751.38 (0.000)\n",
      "146. feature 강수량_499.58 (0.000)\n",
      "147. feature 강수량_371.8 (0.000)\n",
      "148. feature 습도_64.3 (0.000)\n",
      "149. feature 순간최대풍속_15.62 (0.000)\n",
      "150. feature 일사량_515.2 (0.000)\n",
      "151. feature 일사량_562.67 (0.000)\n",
      "152. feature 평균온도_21.54 (0.000)\n",
      "153. feature 일사량_243.36 (0.000)\n",
      "154. feature 강수량_1074.22 (0.000)\n",
      "155. feature 평균온도_12.96 (0.000)\n",
      "156. feature 순간최대풍속_15.09 (0.000)\n",
      "157. feature 일사량_310.7 (0.000)\n",
      "158. feature 습도_66.15 (0.000)\n",
      "159. feature 평균온도_0.79 (0.000)\n",
      "160. feature 순간최대풍속_12.48 (0.000)\n",
      "161. feature 평균온도_-0.51 (0.000)\n",
      "162. feature 습도_63.34 (0.000)\n",
      "163. feature 순간최대풍속_15.4 (0.000)\n",
      "164. feature 순간최대풍속_12.03 (0.000)\n",
      "165. feature 습도_69.64 (0.000)\n",
      "166. feature 순간최대풍속_13.53 (0.000)\n",
      "167. feature 평균온도_1.37 (0.000)\n",
      "168. feature 순간최대풍속_15.17 (0.000)\n",
      "169. feature 일사량_456.6 (0.000)\n",
      "170. feature 순간최대풍속_19.61 (0.000)\n",
      "171. feature 순간최대풍속_13.98 (0.000)\n",
      "172. feature 습도_79.55 (0.000)\n",
      "173. feature 강수량_195.8 (0.000)\n",
      "174. feature 강수량_229.4 (0.000)\n",
      "175. feature 평균온도_22.11 (0.000)\n",
      "176. feature 습도_65.54 (0.000)\n",
      "177. feature 평균온도_17.83 (0.000)\n",
      "178. feature 강수량_374.45 (0.000)\n",
      "179. feature 일사량_285.32 (0.000)\n",
      "180. feature 습도_68.1 (0.000)\n",
      "181. feature 습도_60.24 (0.000)\n",
      "182. feature 평균온도_23.48 (0.000)\n",
      "183. feature 순간최대풍속_12.82 (0.000)\n",
      "184. feature 강수량_1021.65 (0.000)\n",
      "185. feature 일사량_312.39 (0.000)\n",
      "186. feature 강수량_219.35 (0.000)\n",
      "187. feature 강수량_137.95 (0.000)\n",
      "188. feature 강수량_92.3 (0.000)\n",
      "189. feature 습도_67.96 (0.000)\n",
      "190. feature 평균온도_21.83 (0.000)\n",
      "191. feature 평균온도_16.48 (0.000)\n",
      "192. feature 순간최대풍속_12.33 (0.000)\n",
      "193. feature 강수량_216.6 (0.000)\n",
      "194. feature 습도_64.95 (0.000)\n",
      "195. feature 순간최대풍속_14.28 (0.000)\n",
      "196. feature 순간최대풍속_13.86 (0.000)\n",
      "197. feature 평균온도_11.26 (0.000)\n",
      "198. feature 일사량_252.46 (0.000)\n",
      "199. feature 습도_63.62 (0.000)\n",
      "200. feature 강수량_972.42 (0.000)\n",
      "201. feature 일사량_331.56 (0.000)\n",
      "202. feature 일사량_605.78 (0.000)\n",
      "203. feature 순간최대풍속_16.42 (0.000)\n",
      "204. feature 습도_80.21 (0.000)\n",
      "205. feature 일사량_451.58 (0.000)\n",
      "206. feature 평균온도_13.46 (0.000)\n",
      "207. feature 순간최대풍속_14.93 (0.000)\n",
      "208. feature 평균온도_5.63 (0.000)\n",
      "209. feature 평균온도_-0.53 (0.000)\n",
      "210. feature 순간최대풍속_12.08 (0.000)\n",
      "211. feature 순간최대풍속_14.61 (0.000)\n",
      "212. feature 순간최대풍속_14.36 (0.000)\n",
      "213. feature 습도_64.59 (0.000)\n",
      "214. feature 평균온도_12.67 (0.000)\n",
      "215. feature 순간최대풍속_13.84 (0.000)\n",
      "216. feature 평균온도_18.32 (0.000)\n",
      "217. feature 순간최대풍속_13.65 (0.000)\n",
      "218. feature 순간최대풍속_13.45 (0.000)\n",
      "219. feature 일사량_728.76 (0.000)\n",
      "220. feature 습도_73.7 (0.000)\n",
      "221. feature 순간최대풍속_11.59 (0.000)\n",
      "222. feature 평균온도_8.51 (0.000)\n",
      "223. feature 순간최대풍속_13.1 (0.000)\n",
      "224. feature 순간최대풍속_12.68 (0.000)\n",
      "225. feature 평균온도_17.35 (0.000)\n",
      "226. feature 평균온도_17.64 (0.000)\n",
      "227. feature 순간최대풍속_5.56 (0.000)\n",
      "228. feature 강수량_768.4 (0.000)\n",
      "229. feature 평균온도_7.66 (0.000)\n",
      "230. feature 습도_75.62 (0.000)\n",
      "231. feature 습도_63.29 (0.000)\n",
      "232. feature 습도_60.96 (0.000)\n",
      "233. feature 습도_76.87 (0.000)\n",
      "234. feature 순간최대풍속_17.65 (0.000)\n",
      "235. feature 평균온도_0.34 (0.000)\n",
      "236. feature 순간최대풍속_16.14 (0.000)\n",
      "237. feature 평균온도_1.1 (0.000)\n",
      "238. feature 순간최대풍속_15.93 (0.000)\n",
      "239. feature 순간최대풍속_15.01 (0.000)\n",
      "240. feature 순간최대풍속_14.75 (0.000)\n",
      "241. feature 평균온도_2.68 (0.000)\n",
      "242. feature 평균온도_3.03 (0.000)\n",
      "243. feature 평균온도_5.69 (0.000)\n",
      "244. feature 평균온도_6.09 (0.000)\n",
      "245. feature 순간최대풍속_14.86 (0.000)\n",
      "246. feature 평균온도_6.56 (0.000)\n",
      "247. feature 순간최대풍속_14.83 (0.000)\n",
      "248. feature 습도_73.54 (0.000)\n",
      "249. feature 평균온도_7.44 (0.000)\n",
      "250. feature 습도_78.34 (0.000)\n",
      "251. feature 일사량_603.42 (0.000)\n",
      "252. feature 강수량_1059.1 (0.000)\n",
      "253. feature 일사량_268.61 (0.000)\n",
      "254. feature 일사량_249.46 (0.000)\n",
      "255. feature 일사량_231.09 (0.000)\n",
      "256. feature 습도_68.58 (0.000)\n",
      "257. feature 일사량_115.12 (0.000)\n",
      "258. feature 일사량_3.52 (0.000)\n",
      "259. feature 강수량_272.02 (0.000)\n",
      "260. feature 강수량_321.33 (0.000)\n",
      "261. feature 강수량_348.7 (0.000)\n",
      "262. feature 강수량_357.58 (0.000)\n",
      "263. feature 일사량_595.79 (0.000)\n",
      "264. feature 강수량_358.35 (0.000)\n",
      "265. feature 습도_69.95 (0.000)\n",
      "266. feature 강수량_922.53 (0.000)\n",
      "267. feature 강수량_378.3 (0.000)\n",
      "268. feature 습도_71.26 (0.000)\n",
      "269. feature 강수량_450.92 (0.000)\n",
      "270. feature 강수량_832.03 (0.000)\n",
      "271. feature 강수량_821.3 (0.000)\n",
      "272. feature 강수량_800.2 (0.000)\n",
      "273. feature 일사량_272.72 (0.000)\n",
      "274. feature 습도_80.1 (0.000)\n",
      "275. feature 습도_75.78 (0.000)\n",
      "276. feature 일사량_315.63 (0.000)\n",
      "277. feature 강수량_701.0 (0.000)\n",
      "278. feature 일사량_561.43 (0.000)\n",
      "279. feature 일사량_558.27 (0.000)\n",
      "280. feature 일사량_538.2 (0.000)\n",
      "281. feature 평균온도_24.81 (0.000)\n",
      "282. feature 습도_72.54 (0.000)\n",
      "283. feature 일사량_529.91 (0.000)\n",
      "284. feature 습도_66.98 (0.000)\n",
      "285. feature 평균온도_26.06 (0.000)\n",
      "286. feature 평균온도_26.67 (0.000)\n",
      "287. feature 습도_72.22 (0.000)\n",
      "288. feature 강수량_13.6 (0.000)\n",
      "289. feature 습도_67.86 (0.000)\n",
      "290. feature 일사량_446.8 (0.000)\n",
      "291. feature 강수량_79.28 (0.000)\n",
      "292. feature 강수량_82.57 (0.000)\n",
      "293. feature 일사량_399.16 (0.000)\n",
      "294. feature 일사량_382.35 (0.000)\n",
      "295. feature 강수량_185.55 (0.000)\n",
      "296. feature 일사량_201.64 (0.000)\n"
     ]
    },
    {
     "data": {
      "image/png": "[encoded data removed]",
      "text/plain": [
       "<Figure size 432x288 with 1 Axes>"
      ]
     },
     "metadata": {
      "needs_background": "light"
     },
     "output_type": "display_data"
    }
   ],
   "source": [
    "# 타겟 데이터에 영향을 주는 피처 중요도\n",
    "from sklearn.ensemble import RandomForestRegressor\n",
    "\n",
    "rf = RandomForestRegressor()\n",
    "rf.fit(x_train, y_train)\n",
    "\n",
    "importances = rf.feature_importances_\n",
    "std = np.std([tree.feature_importances_ for tree in rf.estimators_], axis=0)\n",
    "indices = np.argsort(importances)[::-1]\n",
    "\n",
    "print('Feature Ranking:')\n",
    "\n",
    "for f in range(x_train.shape[1]):\n",
    "    print('{}. feature {} ({:.3f})'.format(f+1, x_train.columns[indices][f], importances[indices[f]]))\n",
    "\n",
    "plt.figure()\n",
    "plt.title('Feature Importances')\n",
    "plt.bar(range(x_train.shape[1]), importances[indices], color='cornflowerblue', yerr=std[indices], align='center')\n",
    "plt.xticks(range(x_train.shape[1]), x_train.columns[indices], rotation=45)\n",
    "plt.xlim([-1, x_train.shape[1]])\n",
    "plt.show()"
   ]
  },
  {
   "cell_type": "code",
   "execution_count": null,
   "id": "179550d3",
   "metadata": {
    "executionInfo": {
     "elapsed": 506,
     "status": "aborted",
     "timestamp": 1660012559850,
     "user": {
      "displayName": "A",
      "userId": "14103628306870977039"
     },
     "user_tz": -540
    },
    "id": "cyQ4ehFwdOjK"
   },
   "outputs": [],
   "source": []
  }
 ],
 "metadata": {
  "colab": {
   "name": "RetailPriceRegression.ipynb",
   "provenance": []
  },
  "kernelspec": {
   "display_name": "Python 3 (ipykernel)",
   "language": "python",
   "name": "python3"
  },
  "language_info": {
   "codemirror_mode": {
    "name": "ipython",
    "version": 3
   },
   "file_extension": ".py",
   "mimetype": "text/x-python",
   "name": "python",
   "nbconvert_exporter": "python",
   "pygments_lexer": "ipython3",
   "version": "3.9.5"
  }
 },
 "nbformat": 4,
 "nbformat_minor": 5
}
